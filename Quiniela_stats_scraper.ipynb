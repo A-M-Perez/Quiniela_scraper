{
 "cells": [
  {
   "cell_type": "markdown",
   "metadata": {},
   "source": [
    "### Import libraries"
   ]
  },
  {
   "cell_type": "code",
   "execution_count": 44,
   "metadata": {},
   "outputs": [],
   "source": [
    "import urllib.request, urllib.parse, urllib.error\n",
    "from bs4 import BeautifulSoup\n",
    "import ssl\n",
    "import csv\n",
    "import re\n",
    "from time import sleep\n",
    "from datetime import date, timedelta\n",
    "\n",
    "# Ignore certification validation\n",
    "ctx = ssl.create_default_context()\n",
    "ctx.check_hostname = False\n",
    "ctx.verify_mode = ssl.CERT_NONE"
   ]
  },
  {
   "cell_type": "code",
   "execution_count": 45,
   "metadata": {},
   "outputs": [],
   "source": [
    "quiniela_argument = 'nacional'\n",
    "period_argument = 'primera'\n",
    "results_date = date(2014, 11, 1) # This is the oldest date with data in the website\n",
    "end_date = date(2014, 11, 4)\n",
    "# end_date = date.today()\n",
    "date_delta = timedelta(days=1)"
   ]
  },
  {
   "cell_type": "code",
   "execution_count": 47,
   "metadata": {},
   "outputs": [
    {
     "name": "stdout",
     "output_type": "stream",
     "text": [
      "['2014-11-03', 'nacional', 'primera', '1', '2601']\n",
      "['2014-11-03', 'nacional', 'primera', '2', '6463']\n",
      "['2014-11-03', 'nacional', 'primera', '3', '4734']\n",
      "['2014-11-03', 'nacional', 'primera', '4', '4788']\n",
      "['2014-11-03', 'nacional', 'primera', '5', '7133']\n",
      "['2014-11-03', 'nacional', 'primera', '6', '4205']\n",
      "['2014-11-03', 'nacional', 'primera', '7', '4841']\n",
      "['2014-11-03', 'nacional', 'primera', '8', '3373']\n",
      "['2014-11-03', 'nacional', 'primera', '9', '6189']\n",
      "['2014-11-03', 'nacional', 'primera', '10', '3393']\n",
      "['2014-11-03', 'nacional', 'primera', '11', '7135']\n",
      "['2014-11-03', 'nacional', 'primera', '12', '6890']\n",
      "['2014-11-03', 'nacional', 'primera', '13', '8073']\n",
      "['2014-11-03', 'nacional', 'primera', '14', '0479']\n",
      "['2014-11-03', 'nacional', 'primera', '15', '0731']\n",
      "['2014-11-03', 'nacional', 'primera', '16', '5768']\n",
      "['2014-11-03', 'nacional', 'primera', '17', '4227']\n",
      "['2014-11-03', 'nacional', 'primera', '18', '2252']\n",
      "['2014-11-03', 'nacional', 'primera', '19', '2720']\n",
      "['2014-11-03', 'nacional', 'primera', '20', '8425']\n",
      "['2014-11-03', 'nacional', 'primera', 'Letras', 'IFGJ ']\n",
      "['2014-11-04', 'nacional', 'primera', '1', '9146']\n",
      "['2014-11-04', 'nacional', 'primera', '2', '3891']\n",
      "['2014-11-04', 'nacional', 'primera', '3', '3821']\n",
      "['2014-11-04', 'nacional', 'primera', '4', '0728']\n",
      "['2014-11-04', 'nacional', 'primera', '5', '8607']\n",
      "['2014-11-04', 'nacional', 'primera', '6', '7711']\n",
      "['2014-11-04', 'nacional', 'primera', '7', '8081']\n",
      "['2014-11-04', 'nacional', 'primera', '8', '8133']\n",
      "['2014-11-04', 'nacional', 'primera', '9', '5963']\n",
      "['2014-11-04', 'nacional', 'primera', '10', '2965']\n",
      "['2014-11-04', 'nacional', 'primera', '11', '7644']\n",
      "['2014-11-04', 'nacional', 'primera', '12', '6652']\n",
      "['2014-11-04', 'nacional', 'primera', '13', '5583']\n",
      "['2014-11-04', 'nacional', 'primera', '14', '3210']\n",
      "['2014-11-04', 'nacional', 'primera', '15', '5536']\n",
      "['2014-11-04', 'nacional', 'primera', '16', '5255']\n",
      "['2014-11-04', 'nacional', 'primera', '17', '3031']\n",
      "['2014-11-04', 'nacional', 'primera', '18', '3663']\n",
      "['2014-11-04', 'nacional', 'primera', '19', '5979']\n",
      "['2014-11-04', 'nacional', 'primera', '20', '2640']\n",
      "['2014-11-04', 'nacional', 'primera', 'Letras', 'ISWX ']\n",
      "['2014-11-05', 'nacional', 'primera', '1', '1244']\n",
      "['2014-11-05', 'nacional', 'primera', '2', '4024']\n",
      "['2014-11-05', 'nacional', 'primera', '3', '5080']\n",
      "['2014-11-05', 'nacional', 'primera', '4', '5754']\n",
      "['2014-11-05', 'nacional', 'primera', '5', '6910']\n",
      "['2014-11-05', 'nacional', 'primera', '6', '1317']\n",
      "['2014-11-05', 'nacional', 'primera', '7', '8703']\n",
      "['2014-11-05', 'nacional', 'primera', '8', '0740']\n",
      "['2014-11-05', 'nacional', 'primera', '9', '2639']\n",
      "['2014-11-05', 'nacional', 'primera', '10', '3901']\n",
      "['2014-11-05', 'nacional', 'primera', '11', '0198']\n",
      "['2014-11-05', 'nacional', 'primera', '12', '7270']\n",
      "['2014-11-05', 'nacional', 'primera', '13', '1335']\n",
      "['2014-11-05', 'nacional', 'primera', '14', '3138']\n",
      "['2014-11-05', 'nacional', 'primera', '15', '0248']\n",
      "['2014-11-05', 'nacional', 'primera', '16', '4634']\n",
      "['2014-11-05', 'nacional', 'primera', '17', '6424']\n",
      "['2014-11-05', 'nacional', 'primera', '18', '9756']\n",
      "['2014-11-05', 'nacional', 'primera', '19', '1154']\n",
      "['2014-11-05', 'nacional', 'primera', '20', '2456']\n",
      "['2014-11-05', 'nacional', 'primera', 'Letras', 'BGNY ']\n"
     ]
    }
   ],
   "source": [
    "# Set HTML parser\n",
    "while results_date <= end_date:\n",
    "    results_date += date_delta \n",
    "\n",
    "    base_url = 'https://www.nacionalloteria.com/argentina/quiniela-{}.php?del-dia={}&periodo={}'.format(quiniela_argument, results_date, period_argument)\n",
    "    html = urllib.request.urlopen(base_url, context=ctx).read()\n",
    "    soup = BeautifulSoup(html, 'lxml')\n",
    "\n",
    "    quiniela_file_rows = []\n",
    "\n",
    "    rows = soup.find_all('td', class_='celNor tacenter')\n",
    "\n",
    "    i = 0\n",
    "    while i < 42:\n",
    "        quiniela_file_rows = [results_date.strftime('%Y-%m-%d'), quiniela_argument, period_argument, rows[i].text, rows[i+1].text]\n",
    "        i += 2\n",
    "        print(quiniela_file_rows)"
   ]
  },
  {
   "cell_type": "code",
   "execution_count": null,
   "metadata": {},
   "outputs": [],
   "source": [
    "# # Set HTML parser\n",
    "# base_url = 'https://www.nacionalloteria.com/argentina/quiniela-{}.php?del-dia={}&periodo={}'.format(quiniela_argument, results_date, period_argument)\n",
    "# html = urllib.request.urlopen(base_url, context=ctx).read()\n",
    "# soup = BeautifulSoup(html, 'lxml')"
   ]
  },
  {
   "cell_type": "code",
   "execution_count": null,
   "metadata": {},
   "outputs": [],
   "source": [
    "with open('lottery_numbers_page_template.html', 'wb') as file:\n",
    "    file.write(soup.prettify('utf-8'))"
   ]
  },
  {
   "cell_type": "code",
   "execution_count": null,
   "metadata": {},
   "outputs": [],
   "source": [
    "quiniela_file_headers = ['date', 'quiniela', 'period', 'position', 'number']"
   ]
  },
  {
   "cell_type": "code",
   "execution_count": null,
   "metadata": {},
   "outputs": [],
   "source": [
    "# quiniela_file_rows = []\n",
    "\n",
    "# rows = soup.find_all('td', class_='celNor tacenter')\n",
    "\n",
    "# i = 0\n",
    "# while i < 42:\n",
    "#     quiniela_file_rows = [results_date, quiniela_argument, period_argument, rows[i].text, rows[i+1].text]\n",
    "#     i += 2\n",
    "#     print(quiniela_file_rows)"
   ]
  }
 ],
 "metadata": {
  "kernelspec": {
   "display_name": "Python 3",
   "language": "python",
   "name": "python3"
  },
  "language_info": {
   "codemirror_mode": {
    "name": "ipython",
    "version": 3
   },
   "file_extension": ".py",
   "mimetype": "text/x-python",
   "name": "python",
   "nbconvert_exporter": "python",
   "pygments_lexer": "ipython3",
   "version": "3.10.2"
  },
  "orig_nbformat": 4,
  "vscode": {
   "interpreter": {
    "hash": "8dfb18b20b1c5be31ebdb32c9f5f048ff20716d499c9b4ee56ead56f42de095d"
   }
  }
 },
 "nbformat": 4,
 "nbformat_minor": 2
}
