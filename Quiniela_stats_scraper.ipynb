{
 "cells": [
  {
   "cell_type": "markdown",
   "metadata": {},
   "source": [
    "### Import libraries"
   ]
  },
  {
   "cell_type": "code",
   "execution_count": 1,
   "metadata": {},
   "outputs": [],
   "source": [
    "import urllib.request, urllib.parse, urllib.error\n",
    "from bs4 import BeautifulSoup\n",
    "import ssl\n",
    "import csv\n",
    "import re\n",
    "from time import sleep\n",
    "from datetime import date, timedelta\n",
    "\n",
    "# Ignore certification validation\n",
    "ctx = ssl.create_default_context()\n",
    "ctx.check_hostname = False\n",
    "ctx.verify_mode = ssl.CERT_NONE"
   ]
  },
  {
   "cell_type": "code",
   "execution_count": 2,
   "metadata": {},
   "outputs": [],
   "source": [
    "quiniela_argument = 'nacional'\n",
    "period_argument = 'primera'\n",
    "results_date = date(2014, 11, 2) # Oldest date with data in the website \n",
    "# end_date = date(2014, 11, 3)\n",
    "end_date = date.today()\n",
    "date_delta = timedelta(days=1)"
   ]
  },
  {
   "cell_type": "code",
   "execution_count": 3,
   "metadata": {},
   "outputs": [],
   "source": [
    "# Set HTML parser\n",
    "# Create and set the structure of the file to be exported with scraped data\n",
    "file = open('{}-{}.csv'.format(quiniela_argument, period_argument), 'w', newline='')\n",
    "writer = csv.writer(file)\n",
    "quiniela_file_headers = ['date', 'quiniela', 'period', 'position', 'result']\n",
    "writer.writerow(quiniela_file_headers)\n",
    "\n",
    "while results_date <= end_date:\n",
    "    results_date += date_delta \n",
    "\n",
    "    base_url = 'https://www.nacionalloteria.com/argentina/quiniela-{}.php?del-dia={}&periodo={}'.format(quiniela_argument, results_date, period_argument)\n",
    "    html = urllib.request.urlopen(base_url, timeout=10, context=ctx).read()\n",
    "    soup = BeautifulSoup(html, 'lxml')\n",
    "\n",
    "    quiniela_file_rows = []\n",
    "\n",
    "    rows = soup.find_all('td', class_='celNor tacenter')\n",
    "    \n",
    "    i = 0\n",
    "    while i < 42:\n",
    "        quiniela_file_rows = [results_date.strftime('%Y-%m-%d'), quiniela_argument, period_argument, rows[i].text, rows[i+1].text]\n",
    "        i += 2\n",
    "        writer.writerow(quiniela_file_rows)\n",
    "\n",
    "file.close() # Save and close file"
   ]
  },
  {
   "cell_type": "code",
   "execution_count": null,
   "metadata": {},
   "outputs": [],
   "source": [
    "with open('lottery_numbers_page_template.html', 'wb') as file:\n",
    "    file.write(soup.prettify('utf-8'))"
   ]
  }
 ],
 "metadata": {
  "kernelspec": {
   "display_name": "Python 3",
   "language": "python",
   "name": "python3"
  },
  "language_info": {
   "codemirror_mode": {
    "name": "ipython",
    "version": 3
   },
   "file_extension": ".py",
   "mimetype": "text/x-python",
   "name": "python",
   "nbconvert_exporter": "python",
   "pygments_lexer": "ipython3",
   "version": "3.10.2"
  },
  "orig_nbformat": 4,
  "vscode": {
   "interpreter": {
    "hash": "8dfb18b20b1c5be31ebdb32c9f5f048ff20716d499c9b4ee56ead56f42de095d"
   }
  }
 },
 "nbformat": 4,
 "nbformat_minor": 2
}
